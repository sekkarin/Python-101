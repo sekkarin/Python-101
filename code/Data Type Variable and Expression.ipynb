{
 "metadata": {
  "language_info": {
   "codemirror_mode": {
    "name": "ipython",
    "version": 3
   },
   "file_extension": ".py",
   "mimetype": "text/x-python",
   "name": "python",
   "nbconvert_exporter": "python",
   "pygments_lexer": "ipython3",
   "version": "3.7.4"
  },
  "orig_nbformat": 4,
  "kernelspec": {
   "name": "python3",
   "display_name": "Python 3.7.4 64-bit ('anaconda3')"
  },
  "interpreter": {
   "hash": "3d7ae81bd4269cea30be3a7bd3718820557958b837614ab9e83a174814ebfe15"
  }
 },
 "nbformat": 4,
 "nbformat_minor": 2,
 "cells": [
  {
   "cell_type": "code",
   "execution_count": null,
   "metadata": {},
   "outputs": [],
   "source": [
    "a = input().strip()\n",
    "print(a)"
   ]
  },
  {
   "cell_type": "code",
   "execution_count": null,
   "metadata": {},
   "outputs": [],
   "source": [
    "# ถ้ําต้องกํารอ่ํานข้อมูลหลําย ๆ ตัวที่ผู้ใช้ป้อนเข้ํามําในบรรทัดเดียวกัน โดยข้อมูลแต่ละตัวคั่นด้วยช่องว่ําง\n",
    "\n",
    "# a,b,c = [e for e in input().split()]\n",
    "# a,b,c = input().split()\n",
    "# a,b,c = [float(e) for e in input().split()]\n",
    "\n",
    "a = input().strip()\n",
    "print(a)"
   ]
  },
  {
   "cell_type": "code",
   "execution_count": null,
   "metadata": {},
   "outputs": [],
   "source": [
    "x =3\n",
    "print(2*x+1)"
   ]
  },
  {
   "cell_type": "code",
   "execution_count": null,
   "metadata": {},
   "outputs": [],
   "source": [
    "# แบบฝึกหัด ที่ ๑\n",
    "# split() ฟังก์ชั้น ตัดข้อความ\n",
    "h,m,s = [int(e) for e in input().split()]\n",
    "h = h * 60 * 60\n",
    "m = m * 60\n",
    "print(\"เวลาวินาทีทั้งหมด \", h+m+s,\"s\")\n"
   ]
  },
  {
   "cell_type": "code",
   "execution_count": null,
   "metadata": {},
   "outputs": [],
   "source": [
    "# แบบฝึกหัดที่ ๒ \n",
    "# Input: รับจํานวนจริง 1 จํานวนจํากแป้นพิมพ์ เก็บใน x\n",
    "# Process: คำนวณ  y = 2 - (3/7)x**2 - (5/11)x**3 + log10 (x)\n",
    "# Output: ค่ํา y ที่คำนวณได้\n",
    "import math\n",
    "x = int(input(\"ตัวเลข 1 จำนวณ \"))\n",
    "y = 2 - x + (3/7)*x**2 - (5/11)*x**3 + math.log10(x)\n",
    "print(y)"
   ]
  },
  {
   "cell_type": "code",
   "execution_count": null,
   "metadata": {},
   "outputs": [],
   "source": [
    "# Input: รับจำนวนจริง 1 จำนวนจํากแป้นพิมพ์ เก็บใน a\n",
    "# Process: ให้ x มีค่ําเป็น 1 จํากนั้นทำคำสั่ง\n",
    "# x = (x + a/x)/2 จำนวน 4 ครั้ง\n",
    "# Output: ค่ํา x ที่ได้จํากกํารทำนข้ํางบนนี้\n",
    "\n",
    "a = int(input(\"เลขจำนวน 1 จำนวน\"))\n",
    "x = 1\n",
    "x = (x + a/x)/2\n",
    "print(x)"
   ]
  },
  {
   "cell_type": "code",
   "execution_count": null,
   "metadata": {},
   "outputs": [],
   "source": [
    "# Input: มี 2 บรรทัด แต่ละบรรทัดมีจำนวนจริง 3 จำนวน คั่นด้วยช่องว่ําง อ่ํานบรรทัดแรกเก็บใน v1, v2, v3 แทนเวกเตอร์  v = (v1, v2, v3) อ่ํานบรรทัดที่สองเก็บใส่ u1, u2, u3  แทนเวกเตอร์ u = (u1, u2, u3)\n",
    "# Process: คำนวณ dot product ของเวกเตอร์ v กับ u\n",
    "# Output: ค่ํา dot product ที่คำนวณได้\n",
    "\n",
    "v1 , v2 ,v3 =[int(e) for e in input().split()]\n",
    "u1 , u2 ,u3 =[int(e) for e in input().split()]\n",
    "v = (v1 , v2 ,v3)\n",
    "u = (u1 , u2 ,u3)\n",
    "print(v,u)\n",
    "# print(type(v))\n",
    "x = 0\n",
    "for i in range(3):\n",
    "    x += v[i] * u[i]\n",
    "\n",
    "print(\"dot product =\",x)\n"
   ]
  },
  {
   "cell_type": "code",
   "execution_count": null,
   "metadata": {},
   "outputs": [],
   "source": [
    "# Input: อ่ํานพิกัดเชิงขั้วของจุดบนระนําบ ซึ่งเป็นจำนวนจริง 2 # จำนวนคั่นด้วยช่องว่ําง เก็บในตัวแปร r และ theta(เป็นเรเดียน)# #Process: คำนวณค่ํา x และ y ซึ่งเป็นพิกัดคําร์ทีเซียน \n",
    "# ของจุด (r, theta) ที่อ่ํานเข้ํามํา\n",
    "# Output: ค่ํา x และ y (คั่นด้วยช่องว่ําง)\n",
    "# import math\n",
    "# r , theta = [int(e) for e in input().split()]\n",
    "# rpow2 = math.sqrt(r,theta)\n",
    "# tan_theta = theta/r\n"
   ]
  },
  {
   "cell_type": "code",
   "execution_count": null,
   "metadata": {},
   "outputs": [],
   "source": [
    "# Input: อ่ํานจำนวนจริง 4 จำานวนคั่นด้วยช่องว่ํางจํากแป้นพิมพ์ เก็บใน x1, y1, x2 และ y2  ค่ําของ x1, y1 แทนพิกัดของจุดที่ 1 และ x2, y2 แทนพิกัดของจุดที่ 2 บนระนําบ x-y\n",
    "# Process: คำนวณระยะห่ํางสั้นสุดระหว่ํางจุดทั้งสอง\n",
    "# Output: ระยะห่ํางที่หําได้\n",
    "\n",
    "import math\n",
    "x1 , x2 ,y1 ,y2 = [int(e) for e in input().split()]\n",
    "print(math.sqrt((x1 - x2)**2 + (y1-y2)**2) ,\"หน่วย\")"
   ]
  },
  {
   "cell_type": "code",
   "execution_count": null,
   "metadata": {},
   "outputs": [],
   "source": [
    "# Input: อ่ํานจำนวนจริง 5 จำนวน คั่นด้วยช่องว่ํางProcess: คำนวณค่ําเฉลี่ยของจำนวนทั้งห้ํา Output: ค่ําเฉลี่ยที่หําได้\n",
    "num1 , num2 , num3 , num4, num5 = [int(e) for e in input().split()]\n",
    "\n",
    "print(\"ค่าเฉลี่ย \",(num1+num2+num3+num4+num5)/5)"
   ]
  },
  {
   "cell_type": "code",
   "execution_count": null,
   "metadata": {},
   "outputs": [],
   "source": [
    "# Input: รับข้อมูล 3 ตัว a, b กับ c คั่นด้วยช่องว่ํางa และ b เป็นตัวอักษร ส่วน c เป็นจำนวนเต็มOutput: ตัวอักษรใน a ต่อกับตัวอักษรใน b ต่อกับ ค่ําของจำนวนเต็มใน c ต่อกับ ชุดของตัวอักษรใน a ต่อกับตัวอักษรใน b ที่ซำรนรน ๆ กันเป็นจำนวน c ชุด เช่นผู้ใช้ป้อน v o 5 จะแสดง vo5vovovovovo\n",
    "a,b,c =[e for e in input().split()]\n",
    "print(a+b+c,(a+b)*int(c))"
   ]
  },
  {
   "cell_type": "code",
   "execution_count": null,
   "metadata": {},
   "outputs": [],
   "source": [
    "# จงเขียนโปรแกรมคำนวณพื้นที่สํามเหลี่ยมที่ทรําบควํามยําวด้ํานสองด้ําน (a กับ b) และมุมระหว่ํางด้ํานสองด้ํานนั้น (C) จํากสูตร\n",
    "# area = 1/2 a*b sinc \n",
    "import math\n",
    "a,b,c = [float(e) for e in input().split()]\n",
    "c = math.radians(c)\n",
    "area = 1/2*a*b *math.sin(c)\n",
    "print(\"area = \",area,\"(sq cm)\")"
   ]
  },
  {
   "cell_type": "code",
   "execution_count": null,
   "metadata": {},
   "outputs": [],
   "source": [
    "# แปลงอุณหภูม\n",
    "# F = 9/5*C+32\n",
    "# K = C + 273.15\n",
    "\n",
    "C = float(input(\"องศาเซลเซียส\"))\n",
    "F = (9/5)*C+32\n",
    "K = C + 273.15\n",
    "print(F,K)\n"
   ]
  },
  {
   "cell_type": "code",
   "execution_count": null,
   "metadata": {},
   "outputs": [],
   "source": [
    "# Triangle 2\n",
    "# จงเขียนโปรแกรมคำนวณหาความยาวของด้านที่สามของสามเหลี่ยม เมื่อเราทราบความยาวด้านสองด้าน (a กับ b) \n",
    "# และมุมระหว่างด้านสองด้านนั้น (C) ซึ่งคำนวณได้จาก Law of Cosines\n",
    "# c**2 = a**2 + b**2 - 2*a*b*cosC\n",
    "import math\n",
    "a , b ,D = [float(e) for e in input(\"องศา\").split()]\n",
    "c = math.radians(D)\n",
    "C = math.sqrt(a**2+b**2 - 2*a*b * math.cos(c))\n",
    "print(\"C =\", C ,\"cm.\")"
   ]
  },
  {
   "cell_type": "code",
   "execution_count": 5,
   "metadata": {},
   "outputs": [
    {
     "output_type": "stream",
     "name": "stdout",
     "text": [
      "1\n1 0 0 0 0 0 0 0 0 1\n"
     ]
    }
   ],
   "source": [
    "# ISBN (International Standard Book Number) เป็นตัวเลขจ�ำนวน 10-13 หลักที่ใช้ระบุหนังสือแต่ละเล่ม โจทย์ข้อนี้\n",
    "# สนใจเฉพาะ ISBN ที่มี 10 หลัก การตรวจสอบความถูกต้องของ ISBN จะใช้ตัวเลขหลักสุดท้ายเป็น check digit ในการตรวจสอบ\n",
    "# ความถูกต้องของตัวเลขอื่น ๆ โดยวิธีที่ใช้ตรวจสอบคือ\n",
    "# 10n1\n",
    "#  + 9n2\n",
    "#  + 8n3\n",
    "#  + 7n4\n",
    "#  + 6n5\n",
    "#  + 5n6\n",
    "#  + 4n7\n",
    "#  + 3n8\n",
    "#  + 2n9\n",
    "#  + n10 จะต้องหารด้วย 11 ลงตัว\n",
    "# ตัวอย่างเช่น หากตัวเลข 9 หลักแรกคือ 020131452\n",
    "n1,n2,n3,n4,n5,n6,n7,n8,n9 =[int(e) for e in input().split()]\n",
    "sum_value = 10*n1 + 9*n2 + 8*n3 + 7*n4 + 6*n5 + 5*n6 + 4*n7 + 3*n8 + 2*n9 \n",
    "n10 = 0\n",
    "\n",
    "while True:\n",
    "    if sum_value % 11 == 0 :\n",
    "       \n",
    "        break\n",
    "    else:\n",
    "        n10 += 1\n",
    "        sum_value += 1\n",
    "\n",
    "print(n10)\n",
    "print(n1,n2,n3,n4,n5,n6,n7,n8,n9,n10) "
   ]
  },
  {
   "cell_type": "code",
   "execution_count": null,
   "metadata": {},
   "outputs": [],
   "source": []
  }
 ]
}