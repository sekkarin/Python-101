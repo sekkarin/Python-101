{
 "metadata": {
  "language_info": {
   "codemirror_mode": {
    "name": "ipython",
    "version": 3
   },
   "file_extension": ".py",
   "mimetype": "text/x-python",
   "name": "python",
   "nbconvert_exporter": "python",
   "pygments_lexer": "ipython3",
   "version": "3.7.4"
  },
  "orig_nbformat": 4,
  "kernelspec": {
   "name": "python3",
   "display_name": "Python 3.7.4 64-bit ('anaconda3')"
  },
  "interpreter": {
   "hash": "3d7ae81bd4269cea30be3a7bd3718820557958b837614ab9e83a174814ebfe15"
  }
 },
 "nbformat": 4,
 "nbformat_minor": 2,
 "cells": [
  {
   "cell_type": "code",
   "execution_count": null,
   "metadata": {},
   "outputs": [],
   "source": [
    "a = input().strip()\n",
    "print(a)"
   ]
  },
  {
   "cell_type": "code",
   "execution_count": null,
   "metadata": {},
   "outputs": [],
   "source": [
    "# ถ้ําต้องกํารอ่ํานข้อมูลหลําย ๆ ตัวที่ผู้ใช้ป้อนเข้ํามําในบรรทัดเดียวกัน โดยข้อมูลแต่ละตัวคั่นด้วยช่องว่ําง\n",
    "\n",
    "# a,b,c = [e for e in input().split()]\n",
    "# a,b,c = input().split()\n",
    "# a,b,c = [float(e) for e in input().split()]\n",
    "\n",
    "a = input().strip()\n",
    "print(a)"
   ]
  },
  {
   "cell_type": "code",
   "execution_count": null,
   "metadata": {},
   "outputs": [],
   "source": [
    "x =3\n",
    "print(2*x+1)"
   ]
  },
  {
   "cell_type": "code",
   "execution_count": null,
   "metadata": {},
   "outputs": [],
   "source": [
    "# แบบฝึกหัด ที่ ๑\n",
    "# split() ฟังก์ชั้น ตัดข้อความ\n",
    "h,m,s = [int(e) for e in input().split()]\n",
    "h = h * 60 * 60\n",
    "m = m * 60\n",
    "print(\"เวลาวินาทีทั้งหมด \", h+m+s,\"s\")\n"
   ]
  },
  {
   "cell_type": "code",
   "execution_count": null,
   "metadata": {},
   "outputs": [],
   "source": [
    "# แบบฝึกหัดที่ ๒ \n",
    "# Input: รับจํานวนจริง 1 จํานวนจํากแป้นพิมพ์ เก็บใน x\n",
    "# Process: คำนวณ  y = 2 - (3/7)x**2 - (5/11)x**3 + log10 (x)\n",
    "# Output: ค่ํา y ที่คำนวณได้\n",
    "import math\n",
    "x = int(input(\"ตัวเลข 1 จำนวณ \"))\n",
    "y = 2 - x + (3/7)*x**2 - (5/11)*x**3 + math.log10(x)\n",
    "print(y)"
   ]
  },
  {
   "cell_type": "code",
   "execution_count": null,
   "metadata": {},
   "outputs": [],
   "source": [
    "# Input: รับจำนวนจริง 1 จำนวนจํากแป้นพิมพ์ เก็บใน a\n",
    "# Process: ให้ x มีค่ําเป็น 1 จํากนั้นทำคำสั่ง\n",
    "# x = (x + a/x)/2 จำนวน 4 ครั้ง\n",
    "# Output: ค่ํา x ที่ได้จํากกํารทำนข้ํางบนนี้\n",
    "\n",
    "a = int(input(\"เลขจำนวน 1 จำนวน\"))\n",
    "x = 1\n",
    "x = (x + a/x)/2\n",
    "print(x)"
   ]
  },
  {
   "cell_type": "code",
   "execution_count": null,
   "metadata": {},
   "outputs": [],
   "source": [
    "# Input: มี 2 บรรทัด แต่ละบรรทัดมีจำนวนจริง 3 จำนวน คั่นด้วยช่องว่ําง อ่ํานบรรทัดแรกเก็บใน v1, v2, v3 แทนเวกเตอร์  v = (v1, v2, v3) อ่ํานบรรทัดที่สองเก็บใส่ u1, u2, u3  แทนเวกเตอร์ u = (u1, u2, u3)\n",
    "# Process: คำนวณ dot product ของเวกเตอร์ v กับ u\n",
    "# Output: ค่ํา dot product ที่คำนวณได้\n",
    "\n",
    "v1 , v2 ,v3 =[int(e) for e in input().split()]\n",
    "u1 , u2 ,u3 =[int(e) for e in input().split()]\n",
    "v = (v1 , v2 ,v3)\n",
    "u = (u1 , u2 ,u3)\n",
    "print(v,u)\n",
    "# print(type(v))\n",
    "x = 0\n",
    "for i in range(3):\n",
    "    x += v[i] * u[i]\n",
    "\n",
    "print(\"dot product =\",x)\n"
   ]
  },
  {
   "cell_type": "code",
   "execution_count": null,
   "metadata": {},
   "outputs": [],
   "source": [
    "# Input: อ่ํานพิกัดเชิงขั้วของจุดบนระนําบ ซึ่งเป็นจำนวนจริง 2 # จำนวนคั่นด้วยช่องว่ําง เก็บในตัวแปร r และ theta(เป็นเรเดียน)# #Process: คำนวณค่ํา x และ y ซึ่งเป็นพิกัดคําร์ทีเซียน \n",
    "# ของจุด (r, theta) ที่อ่ํานเข้ํามํา\n",
    "# Output: ค่ํา x และ y (คั่นด้วยช่องว่ําง)\n",
    "# import math\n",
    "# r , theta = [int(e) for e in input().split()]\n",
    "# rpow2 = math.sqrt(r,theta)\n",
    "# tan_theta = theta/r\n"
   ]
  },
  {
   "cell_type": "code",
   "execution_count": null,
   "metadata": {},
   "outputs": [],
   "source": [
    "# Input: อ่ํานจำนวนจริง 4 จำานวนคั่นด้วยช่องว่ํางจํากแป้นพิมพ์ เก็บใน x1, y1, x2 และ y2  ค่ําของ x1, y1 แทนพิกัดของจุดที่ 1 และ x2, y2 แทนพิกัดของจุดที่ 2 บนระนําบ x-y\n",
    "# Process: คำนวณระยะห่ํางสั้นสุดระหว่ํางจุดทั้งสอง\n",
    "# Output: ระยะห่ํางที่หําได้\n",
    "\n",
    "import math\n",
    "x1 , x2 ,y1 ,y2 = [int(e) for e in input().split()]\n",
    "print(math.sqrt((x1 - x2)**2 + (y1-y2)**2) ,\"หน่วย\")"
   ]
  }
 ]
}