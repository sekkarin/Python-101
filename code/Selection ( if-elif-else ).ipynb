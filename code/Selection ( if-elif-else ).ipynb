{
 "metadata": {
  "language_info": {
   "codemirror_mode": {
    "name": "ipython",
    "version": 3
   },
   "file_extension": ".py",
   "mimetype": "text/x-python",
   "name": "python",
   "nbconvert_exporter": "python",
   "pygments_lexer": "ipython3",
   "version": "3.7.4"
  },
  "orig_nbformat": 4,
  "kernelspec": {
   "name": "python3",
   "display_name": "Python 3.7.4 64-bit ('anaconda3')"
  },
  "interpreter": {
   "hash": "3d7ae81bd4269cea30be3a7bd3718820557958b837614ab9e83a174814ebfe15"
  }
 },
 "nbformat": 4,
 "nbformat_minor": 2,
 "cells": [
  {
   "cell_type": "code",
   "execution_count": null,
   "metadata": {},
   "outputs": [],
   "source": [
    "# Input: รับจำนวนเต็ม 3 จำนวน คั่นด้วยช่องว่าง\n",
    "# Process: หามัธยฐานของจำนวนทั้ง 3\n",
    "# Output: มัธยฐานที่หาได้\n",
    "n1 ,n2, n3 = [int(e) for e in input().split()]\n",
    "# Mdn = (3+1)/2\n",
    "\n",
    "if n1 >= n2 >= n3 or n1<= n2<=n3:\n",
    "    print(\"มัธยฐาน :\",n2)\n",
    "elif n2>=n1>=n3 or n2<=n1<=n3:\n",
    "    print(\"มัธยฐาน :\",n1)\n",
    "elif n2>=n3>=n1 or n2<=n3<=n1:\n",
    "    print(\"มัธยฐาน :\",n3)\n",
    "else:\n",
    "    print(\"Error\")"
   ]
  },
  {
   "cell_type": "code",
   "execution_count": null,
   "metadata": {},
   "outputs": [],
   "source": [
    "# Input: รับจำนวนเต็ม 5 จำนวน คั่นด้วยช่องว่าง\n",
    "# Process: ตรวจว่าลำดับจากซ้ายไปขวาของจำนวนที่รับมาเรียงจากน้อยไปมากหรือไม่\n",
    "# Output: ผลการตรวจว่า True หรือ False\n",
    "int_1 , int_2 , int_3 , int_4 ,int_5 = [int(e) for e in input().split()]\n",
    "if int_1 < int_2 < int_3 <int_4 < int_5 :\n",
    "    print(\"True\")\n",
    "else:\n",
    "    print(\"Fales\")"
   ]
  },
  {
   "cell_type": "code",
   "execution_count": null,
   "metadata": {},
   "outputs": [],
   "source": [
    "# Input: รับจำนวนเต็ม 4 จำนวน คั่นด้วยช่องว่าง\n",
    "# Process: หาผลรวมของจำนวนที่รับมา โดยไม่รวมจำนวนที่มากสุดหนึ่งจำนวน และจำนวนที่น้อยสุดหนึ่งจำนวน\n",
    "# Output: ผลรวมที่หาได้\n",
    "thelist = input(\"Please input a list with numbers: \")\n",
    "mylist = list(map(int, thelist.split()))\n",
    "\n",
    "mylist.reverse()\n",
    "\n",
    "print(mylist)\n",
    "print(\"ผลรวม = \",mylist[1]+mylist[2])"
   ]
  },
  {
   "cell_type": "code",
   "execution_count": null,
   "metadata": {
    "tags": []
   },
   "outputs": [],
   "source": [
    "a = str(input())\n",
    "i = 0\n",
    "\n",
    "# จำไว้ให้ดี\n",
    "a = a.split(',')\n",
    "a = int(\"\".join(a))\n",
    "print(type(a),a)\n",
    "\n",
    "\n",
    "while True:\n",
    "    \n",
    "    i_x = i**3\n",
    "    if (i_x == a):\n",
    "        print(\"มีค่าเท่ากับ\",i_x,\"หรือ 3**{}\".format(i))\n",
    "        break\n",
    "    elif i_x > a:\n",
    "        print(\"Not Found\")\n",
    "        break\n",
    "    i += 1"
   ]
  },
  {
   "cell_type": "code",
   "execution_count": 20,
   "metadata": {},
   "outputs": [
    {
     "output_type": "stream",
     "name": "stdout",
     "text": [
      "175\n"
     ]
    }
   ],
   "source": [
    "# หากเราซื้อสลากกินแบ่งเรียงหมายเลขตั้งแต่หมายเลข n1 ต่อเนื่องไปจนถึงหมายเลข n2 (เช่นหมายเลข 10300 ถึง 13999)และงวดนี้รางวัลที่  1  คือหมายเลข p1  เลขท้ายสองตัวคือหมายเลข p2  และ  เลขท้ายสามตัวคือหมายเลข p3  เราจะได้รางวัลรวมเป็นเงินเท่าไร \n",
    "# กำหนดให้สลากกินแบ่งที่ขายนี้เป็นรุ่นพิเศษ  เป็นเลข  5  หลัก  รางวัลที่หนึ่ง  10,000  บาท  หนึ่งรางวัล  รางวัลเลขท้ายสองตัวหนึ่งหมายเลข 25 บาท และรางวัลเลขท้ายสามตัวหนึ่งหมายเลข 100 บาท\n",
    "\n",
    "\n",
    "\n",
    "p1,p2,p3,n1,n2 =    [int(e) for e in input().split()]\n",
    "s = 0\n",
    "# if n1 <= p1 <= n2 : \n",
    "#     s += 10000\n",
    "\n",
    "if n1//100 == n2//100:    \n",
    "    if n1%100 <= p2 <= n2%100:\n",
    "        # print(n1%100,\"-\",n2%100)\n",
    "        s += 25\n",
    "else:\n",
    "    s += 25*(n2//100 - n1//100 +1)\n",
    "# if n1%1000 <= p3 <= n2%1000:\n",
    "#     print(n1%1000,\"-\",n2%1000)\n",
    "#     s += 100\n",
    "print(s)"
   ]
  },
  {
   "cell_type": "code",
   "execution_count": null,
   "metadata": {},
   "outputs": [],
   "source": []
  }
 ]
}